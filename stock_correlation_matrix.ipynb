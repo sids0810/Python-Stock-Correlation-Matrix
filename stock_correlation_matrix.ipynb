{
 "cells": [
  {
   "cell_type": "markdown",
   "id": "8f7d79a8-1151-477d-aae8-8499a1fe2950",
   "metadata": {},
   "source": [
    "<h1>Project Title: Financial Market Data Analysis Toolkit Part 2</h1>\n",
    "<h3>Author: Siddhant Dhoot</h3>\n",
    "<a href=\"https://www.linkedin.com/in/siddhant-dhoot/\">LinkedIn</a>\n",
    "<h3>Date: June 2, 2025</h3>\n",
    "<p>Description: A Python script to fetch, analyze, and visualize stock market data, focusing on correlation using common Python libraries.</p>\n",
    "<p>Purpose: To practice Python, data acquisition via APIs (e.g., yfinance), data manipulation with Pandas, and data visualization with Matplotlib/Seaborn.</p>\n"
   ]
  },
  {
   "cell_type": "markdown",
   "id": "664f4aa2-409f-4af1-aaf8-dda0cf02647c",
   "metadata": {},
   "source": [
    "<h4>Step 1: Import Python liabraries</h4>"
   ]
  },
  {
   "cell_type": "code",
   "execution_count": 1,
   "id": "2aa463c8-ee57-4e45-abbb-254066211be9",
   "metadata": {},
   "outputs": [],
   "source": [
    "import yfinance as yf\n",
    "import pandas as pd\n",
    "import numpy as np\n",
    "import matplotlib.pyplot as plt\n",
    "import seaborn as sns\n",
    "import datetime\n",
    "%matplotlib inline"
   ]
  },
  {
   "cell_type": "markdown",
   "id": "612f539a-d892-487e-bb9c-417096f80d3c",
   "metadata": {},
   "source": [
    "<h4>Step 2: Get user input for stock tickers and period of analysis</h4>"
   ]
  },
  {
   "cell_type": "code",
   "execution_count": 2,
   "id": "ae2faf08-00e1-4fa6-8375-399044f559c6",
   "metadata": {},
   "outputs": [
    {
     "name": "stdin",
     "output_type": "stream",
     "text": [
      "Enter the number of stocks to be studied:  4\n",
      "Enter stock no. 1 EPI\n",
      "Enter stock no. 2 SCHG\n",
      "Enter stock no. 3 QQQ\n",
      "Enter stock no. 4 IWY\n",
      "Start date for historical analysis (YYYY-MM-DD):  2020-01-01\n",
      "End date for historical analysis (YYYY-MM-DD):  2025-01-02\n"
     ]
    }
   ],
   "source": [
    "no_of_stocks = int(input(\"Enter the number of stocks to be studied: \"))\n",
    "stock_list=[]\n",
    "stock_ticker_inter = \"\"\n",
    "for i in range(no_of_stocks):\n",
    "    stock_ticker_inter = input(\"Enter stock no. \"+str(i+1))\n",
    "    stock_list.append(stock_ticker_inter)\n",
    "    stock_ticker_inter = \"\"\n",
    "start_date = input(\"Start date for historical analysis (YYYY-MM-DD): \")\n",
    "end_date = input(\"End date for historical analysis (YYYY-MM-DD): \")"
   ]
  },
  {
   "cell_type": "markdown",
   "id": "6dab4450-2951-4719-bcc9-9415e6d16a3c",
   "metadata": {},
   "source": [
    "<h4>Step 3: Create a datetime object to adjust start date by 1 for accurate calculations of daily return for the first day</h4>"
   ]
  },
  {
   "cell_type": "code",
   "execution_count": 3,
   "id": "aef5ee05-5ce0-4c9d-99c2-1c744be06c18",
   "metadata": {},
   "outputs": [],
   "source": [
    "format_date = \"%Y-%m-%d\"\n",
    "#Create datetime object\n",
    "start_date = datetime.datetime.strptime(start_date,format_date) \n",
    "#Define the period you want to go back\n",
    "preceding_period = datetime.timedelta(days = 1)\n",
    "#Move the start date back\n",
    "start_date_new = start_date - preceding_period\n",
    "#Convert the datetime object back to string\n",
    "start_date_new = start_date_new.strftime(format_date)"
   ]
  },
  {
   "cell_type": "markdown",
   "id": "3e5fe661-06ce-49cc-8614-0d89f09c7552",
   "metadata": {},
   "source": [
    "<h4>Step 4: Create a yfinance object and import closing price data for all tickers. Initialize an empty DataFrame to store all values together</h4>"
   ]
  },
  {
   "cell_type": "code",
   "execution_count": 4,
   "id": "7945c8b2-7027-4b7c-a873-4ccc2073a4ff",
   "metadata": {},
   "outputs": [
    {
     "data": {
      "text/html": [
       "<div>\n",
       "<style scoped>\n",
       "    .dataframe tbody tr th:only-of-type {\n",
       "        vertical-align: middle;\n",
       "    }\n",
       "\n",
       "    .dataframe tbody tr th {\n",
       "        vertical-align: top;\n",
       "    }\n",
       "\n",
       "    .dataframe thead th {\n",
       "        text-align: right;\n",
       "    }\n",
       "</style>\n",
       "<table border=\"1\" class=\"dataframe\">\n",
       "  <thead>\n",
       "    <tr style=\"text-align: right;\">\n",
       "      <th></th>\n",
       "      <th>Date</th>\n",
       "      <th>EPI</th>\n",
       "      <th>SCHG</th>\n",
       "      <th>QQQ</th>\n",
       "      <th>IWY</th>\n",
       "    </tr>\n",
       "  </thead>\n",
       "  <tbody>\n",
       "    <tr>\n",
       "      <th>0</th>\n",
       "      <td>2019-12-31 00:00:00-05:00</td>\n",
       "      <td>22.730639</td>\n",
       "      <td>11.421656</td>\n",
       "      <td>205.888107</td>\n",
       "      <td>93.147324</td>\n",
       "    </tr>\n",
       "    <tr>\n",
       "      <th>1</th>\n",
       "      <td>2020-01-02 00:00:00-05:00</td>\n",
       "      <td>23.086803</td>\n",
       "      <td>11.574092</td>\n",
       "      <td>209.325928</td>\n",
       "      <td>94.430054</td>\n",
       "    </tr>\n",
       "    <tr>\n",
       "      <th>2</th>\n",
       "      <td>2020-01-03 00:00:00-05:00</td>\n",
       "      <td>22.748903</td>\n",
       "      <td>11.510167</td>\n",
       "      <td>207.408493</td>\n",
       "      <td>93.754929</td>\n",
       "    </tr>\n",
       "    <tr>\n",
       "      <th>3</th>\n",
       "      <td>2020-01-06 00:00:00-05:00</td>\n",
       "      <td>22.420132</td>\n",
       "      <td>11.582696</td>\n",
       "      <td>208.744858</td>\n",
       "      <td>94.323952</td>\n",
       "    </tr>\n",
       "    <tr>\n",
       "      <th>4</th>\n",
       "      <td>2020-01-07 00:00:00-05:00</td>\n",
       "      <td>22.392738</td>\n",
       "      <td>11.566714</td>\n",
       "      <td>208.715836</td>\n",
       "      <td>94.121422</td>\n",
       "    </tr>\n",
       "    <tr>\n",
       "      <th>...</th>\n",
       "      <td>...</td>\n",
       "      <td>...</td>\n",
       "      <td>...</td>\n",
       "      <td>...</td>\n",
       "      <td>...</td>\n",
       "    </tr>\n",
       "    <tr>\n",
       "      <th>1254</th>\n",
       "      <td>2024-12-24 00:00:00-05:00</td>\n",
       "      <td>45.899002</td>\n",
       "      <td>28.910469</td>\n",
       "      <td>529.170898</td>\n",
       "      <td>243.761948</td>\n",
       "    </tr>\n",
       "    <tr>\n",
       "      <th>1255</th>\n",
       "      <td>2024-12-26 00:00:00-05:00</td>\n",
       "      <td>45.820000</td>\n",
       "      <td>28.870510</td>\n",
       "      <td>528.811401</td>\n",
       "      <td>243.322418</td>\n",
       "    </tr>\n",
       "    <tr>\n",
       "      <th>1256</th>\n",
       "      <td>2024-12-27 00:00:00-05:00</td>\n",
       "      <td>45.639999</td>\n",
       "      <td>28.450937</td>\n",
       "      <td>521.781860</td>\n",
       "      <td>239.776321</td>\n",
       "    </tr>\n",
       "    <tr>\n",
       "      <th>1257</th>\n",
       "      <td>2024-12-30 00:00:00-05:00</td>\n",
       "      <td>45.090000</td>\n",
       "      <td>28.111284</td>\n",
       "      <td>514.842224</td>\n",
       "      <td>236.879517</td>\n",
       "    </tr>\n",
       "    <tr>\n",
       "      <th>1258</th>\n",
       "      <td>2024-12-31 00:00:00-05:00</td>\n",
       "      <td>45.270000</td>\n",
       "      <td>27.841562</td>\n",
       "      <td>510.468781</td>\n",
       "      <td>235.011566</td>\n",
       "    </tr>\n",
       "  </tbody>\n",
       "</table>\n",
       "<p>1259 rows × 5 columns</p>\n",
       "</div>"
      ],
      "text/plain": [
       "                          Date        EPI       SCHG         QQQ         IWY\n",
       "0    2019-12-31 00:00:00-05:00  22.730639  11.421656  205.888107   93.147324\n",
       "1    2020-01-02 00:00:00-05:00  23.086803  11.574092  209.325928   94.430054\n",
       "2    2020-01-03 00:00:00-05:00  22.748903  11.510167  207.408493   93.754929\n",
       "3    2020-01-06 00:00:00-05:00  22.420132  11.582696  208.744858   94.323952\n",
       "4    2020-01-07 00:00:00-05:00  22.392738  11.566714  208.715836   94.121422\n",
       "...                        ...        ...        ...         ...         ...\n",
       "1254 2024-12-24 00:00:00-05:00  45.899002  28.910469  529.170898  243.761948\n",
       "1255 2024-12-26 00:00:00-05:00  45.820000  28.870510  528.811401  243.322418\n",
       "1256 2024-12-27 00:00:00-05:00  45.639999  28.450937  521.781860  239.776321\n",
       "1257 2024-12-30 00:00:00-05:00  45.090000  28.111284  514.842224  236.879517\n",
       "1258 2024-12-31 00:00:00-05:00  45.270000  27.841562  510.468781  235.011566\n",
       "\n",
       "[1259 rows x 5 columns]"
      ]
     },
     "execution_count": 4,
     "metadata": {},
     "output_type": "execute_result"
    }
   ],
   "source": [
    "#Create the DataFrame objects \n",
    "stock_data = pd.DataFrame()\n",
    "#Import historical data using .history() and creating a master DataFrame by adding additional columns with closing price for each stock\n",
    "for stock in stock_list:\n",
    "    stock_object = yf.Ticker(stock)\n",
    "    stock_historical = stock_object.history(start = start_date_new , end = end_date, interval =\"1d\")\n",
    "    stock_data = stock_data.assign(**{stock: stock_historical['Close']})\n",
    "#Reset the index for easy loop logic when calculating daily returns \n",
    "stock_data.reset_index(inplace=True)\n",
    "#Display the imported data to confirm\n",
    "stock_data"
   ]
  },
  {
   "cell_type": "markdown",
   "id": "b58a63c2-b881-4672-b95c-d42b9fc817ea",
   "metadata": {},
   "source": [
    "<h4>Step 5: Create a new DataFrame to store daily returns data. Calculate Daily Returns and add it to the DataFrame. Drop the first row of DataFrame that we added to simplify calculations.</h4>"
   ]
  },
  {
   "cell_type": "code",
   "execution_count": 5,
   "id": "544d9e8a-e40f-45b7-b2d3-9c0828359d2c",
   "metadata": {},
   "outputs": [
    {
     "data": {
      "text/html": [
       "<div>\n",
       "<style scoped>\n",
       "    .dataframe tbody tr th:only-of-type {\n",
       "        vertical-align: middle;\n",
       "    }\n",
       "\n",
       "    .dataframe tbody tr th {\n",
       "        vertical-align: top;\n",
       "    }\n",
       "\n",
       "    .dataframe thead th {\n",
       "        text-align: right;\n",
       "    }\n",
       "</style>\n",
       "<table border=\"1\" class=\"dataframe\">\n",
       "  <thead>\n",
       "    <tr style=\"text-align: right;\">\n",
       "      <th></th>\n",
       "      <th>EPI-Returns</th>\n",
       "      <th>SCHG-Returns</th>\n",
       "      <th>QQQ-Returns</th>\n",
       "      <th>IWY-Returns</th>\n",
       "    </tr>\n",
       "  </thead>\n",
       "  <tbody>\n",
       "    <tr>\n",
       "      <th>1</th>\n",
       "      <td>0.015669</td>\n",
       "      <td>0.013346</td>\n",
       "      <td>0.016698</td>\n",
       "      <td>0.013771</td>\n",
       "    </tr>\n",
       "    <tr>\n",
       "      <th>2</th>\n",
       "      <td>-0.014636</td>\n",
       "      <td>-0.005523</td>\n",
       "      <td>-0.009160</td>\n",
       "      <td>-0.007149</td>\n",
       "    </tr>\n",
       "    <tr>\n",
       "      <th>3</th>\n",
       "      <td>-0.014452</td>\n",
       "      <td>0.006301</td>\n",
       "      <td>0.006443</td>\n",
       "      <td>0.006069</td>\n",
       "    </tr>\n",
       "    <tr>\n",
       "      <th>4</th>\n",
       "      <td>-0.001222</td>\n",
       "      <td>-0.001380</td>\n",
       "      <td>-0.000139</td>\n",
       "      <td>-0.002147</td>\n",
       "    </tr>\n",
       "    <tr>\n",
       "      <th>5</th>\n",
       "      <td>0.008972</td>\n",
       "      <td>0.007015</td>\n",
       "      <td>0.007516</td>\n",
       "      <td>0.007788</td>\n",
       "    </tr>\n",
       "    <tr>\n",
       "      <th>...</th>\n",
       "      <td>...</td>\n",
       "      <td>...</td>\n",
       "      <td>...</td>\n",
       "      <td>...</td>\n",
       "    </tr>\n",
       "    <tr>\n",
       "      <th>1254</th>\n",
       "      <td>0.000652</td>\n",
       "      <td>0.012951</td>\n",
       "      <td>0.013560</td>\n",
       "      <td>0.013750</td>\n",
       "    </tr>\n",
       "    <tr>\n",
       "      <th>1255</th>\n",
       "      <td>-0.001721</td>\n",
       "      <td>-0.001382</td>\n",
       "      <td>-0.000679</td>\n",
       "      <td>-0.001803</td>\n",
       "    </tr>\n",
       "    <tr>\n",
       "      <th>1256</th>\n",
       "      <td>-0.003928</td>\n",
       "      <td>-0.014533</td>\n",
       "      <td>-0.013293</td>\n",
       "      <td>-0.014574</td>\n",
       "    </tr>\n",
       "    <tr>\n",
       "      <th>1257</th>\n",
       "      <td>-0.012051</td>\n",
       "      <td>-0.011938</td>\n",
       "      <td>-0.013300</td>\n",
       "      <td>-0.012081</td>\n",
       "    </tr>\n",
       "    <tr>\n",
       "      <th>1258</th>\n",
       "      <td>0.003992</td>\n",
       "      <td>-0.009595</td>\n",
       "      <td>-0.008495</td>\n",
       "      <td>-0.007886</td>\n",
       "    </tr>\n",
       "  </tbody>\n",
       "</table>\n",
       "<p>1258 rows × 4 columns</p>\n",
       "</div>"
      ],
      "text/plain": [
       "      EPI-Returns  SCHG-Returns  QQQ-Returns  IWY-Returns\n",
       "1        0.015669      0.013346     0.016698     0.013771\n",
       "2       -0.014636     -0.005523    -0.009160    -0.007149\n",
       "3       -0.014452      0.006301     0.006443     0.006069\n",
       "4       -0.001222     -0.001380    -0.000139    -0.002147\n",
       "5        0.008972      0.007015     0.007516     0.007788\n",
       "...           ...           ...          ...          ...\n",
       "1254     0.000652      0.012951     0.013560     0.013750\n",
       "1255    -0.001721     -0.001382    -0.000679    -0.001803\n",
       "1256    -0.003928     -0.014533    -0.013293    -0.014574\n",
       "1257    -0.012051     -0.011938    -0.013300    -0.012081\n",
       "1258     0.003992     -0.009595    -0.008495    -0.007886\n",
       "\n",
       "[1258 rows x 4 columns]"
      ]
     },
     "execution_count": 5,
     "metadata": {},
     "output_type": "execute_result"
    }
   ],
   "source": [
    "stock_returns_data = pd.DataFrame()\n",
    "for stock in stock_list:\n",
    "    stock_returns_data = stock_returns_data.assign(**{stock+\"-Returns\":stock_data[stock].pct_change()})\n",
    "stock_returns_data = stock_returns_data.iloc[1:]\n",
    "stock_returns_data"
   ]
  },
  {
   "cell_type": "markdown",
   "id": "149ff93e-5c67-407a-91ec-7f913b5d5c4f",
   "metadata": {},
   "source": [
    "<h4>Step 6: Calculate the correlation matrix and display it using matplotlib/seaborn</h4>"
   ]
  },
  {
   "cell_type": "code",
   "execution_count": 6,
   "id": "d5be0ce8-61c4-4a72-977d-a12a51b9402b",
   "metadata": {},
   "outputs": [
    {
     "name": "stdout",
     "output_type": "stream",
     "text": [
      "              EPI-Returns  SCHG-Returns  QQQ-Returns  IWY-Returns\n",
      "EPI-Returns      1.000000      0.612380     0.587565     0.599595\n",
      "SCHG-Returns     0.612380      1.000000     0.986821     0.992009\n",
      "QQQ-Returns      0.587565      0.986821     1.000000     0.987313\n",
      "IWY-Returns      0.599595      0.992009     0.987313     1.000000\n",
      "\n"
     ]
    },
    {
     "data": {
      "image/png": "[encoded data removed]",
      "text/plain": [
       "<Figure size 640x480 with 2 Axes>"
      ]
     },
     "metadata": {},
     "output_type": "display_data"
    }
   ],
   "source": [
    "correlation_matrix = stock_returns_data.corr()\n",
    "print(correlation_matrix)\n",
    "print()\n",
    "sns.heatmap(correlation_matrix, annot=True, cmap='viridis')\n",
    "plt.show()"
   ]
  },
  {
   "cell_type": "markdown",
   "id": "3b164648-1851-42e8-935c-9f45177120c7",
   "metadata": {},
   "source": [
    "Analysis and Interpretation of Personal Portfolio Correlation\n",
    "\n",
    "This correlation matrix analyzes the historical relationships between the four primary ETFs in my personal portfolio: WisdomTree India Earnings Fund (EPI), Schwab U.S. Large-Cap Growth ETF (SCHG), Invesco QQQ Trust (QQQ), and iShares Russell Top 200 Growth ETF (IWY).\n",
    "\n",
    "The analysis provides critical insights into the current sources of risk and diversification within the portfolio:\n",
    "\n",
    "1. High Concentration in U.S. Large-Cap Growth: The most striking feature is the near-perfect correlation (0.99) between SCHG, QQQ, and IWY. This indicates a significant overlap in their underlying holdings and investment style, primarily targeting U.S. mega-cap and large-cap growth stocks. While these have been strong performers, this high correlation means they behave almost identically, offering minimal diversification benefits from each other. This concentration represents the portfolio's largest systematic risk factor.\n",
    "\n",
    "2. Effective Geographic Diversification from India: The WisdomTree India ETF (EPI) shows a moderate correlation of approximately 0.6 to the three U.S. funds. This is a positive sign of effective diversification. It demonstrates that the Indian equity market, while still influenced by global trends, is driven by its own distinct local economic factors. This lower correlation helps to cushion the portfolio from events that might exclusively impact the U.S. market.\n",
    "\n",
    "Strategic Forward-Looking Plan:\n",
    "The insights from this analysis directly inform the portfolio's future strategy. The heavy concentration in a single factor (U.S. large-cap growth) needs to be addressed to build a more resilient, all-weather portfolio.\n",
    "\n",
    "Therefore, at the next rebalancing scheduled for August 2025, the plan is to enhance diversification by adding two new asset classes:\n",
    "\n",
    "1. U.S. Mid-Cap Fund: This will diversify the portfolio's U.S. equity exposure away from the mega-cap names that dominate the current holdings, capturing a different risk/return profile.\n",
    "\n",
    "2. Europe Developed Market Fund: This will further strengthen the portfolio's geographic diversification. Similar to the India ETF, this will introduce exposure to different economic cycles, geopolitical factors, and market dynamics, likely adding another asset with a moderate correlation to the core U.S. holdings.\n",
    "\n",
    "Conclusion: This quantitative analysis has successfully identified a key risk concentration and provides a clear, data-driven rationale for the planned adjustments. The goal is to evolve the portfolio by systematically adding non-correlated assets to improve its risk-adjusted return profile over the long term."
   ]
  }
 ],
 "metadata": {
  "kernelspec": {
   "display_name": "Python [conda env:base] *",
   "language": "python",
   "name": "conda-base-py"
  },
  "language_info": {
   "codemirror_mode": {
    "name": "ipython",
    "version": 3
   },
   "file_extension": ".py",
   "mimetype": "text/x-python",
   "name": "python",
   "nbconvert_exporter": "python",
   "pygments_lexer": "ipython3",
   "version": "3.12.7"
  }
 },
 "nbformat": 4,
 "nbformat_minor": 5
}
